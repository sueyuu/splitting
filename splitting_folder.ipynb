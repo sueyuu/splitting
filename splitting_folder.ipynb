{
 "cells": [
  {
   "cell_type": "code",
   "execution_count": 1,
   "id": "af9ae637",
   "metadata": {
    "id": "af9ae637"
   },
   "outputs": [],
   "source": [
    "import pandas as pd\n",
    "import numpy as np\n",
    "import os"
   ]
  },
  {
   "cell_type": "code",
   "execution_count": 2,
   "id": "de519226",
   "metadata": {
    "id": "de519226"
   },
   "outputs": [],
   "source": [
    "train_files = [\"aleppo_train.csv\"]\n",
    "validation_files = [\"aleppo_validation.csv\"]\n",
    "test_files = [\"aleppo_test.csv\"]\n",
    "train_datas = []\n",
    "validation_datas = []\n",
    "test_datas = []"
   ]
  },
  {
   "cell_type": "code",
   "execution_count": 3,
   "id": "55482bf1",
   "metadata": {
    "id": "55482bf1"
   },
   "outputs": [],
   "source": [
    "for train_file in train_files:\n",
    "    train_datas.append(pd.read_csv(train_file))\n",
    "for validation_file in validation_files:\n",
    "    validation_datas.append(pd.read_csv(validation_file))\n",
    "for test_file in test_files:\n",
    "    test_datas.append(pd.read_csv(test_file))"
   ]
  },
  {
   "cell_type": "code",
   "execution_count": 5,
   "id": "6c754b3a",
   "metadata": {
    "id": "6c754b3a"
   },
   "outputs": [],
   "source": [
    "folder_paths = [\"Aleppo2017\"]\n",
    "file_names = []\n",
    "for folder_path in folder_paths:\n",
    "    # Assuming the folder contains files to be processed\n",
    "    # You can replace this with your actual logic\n",
    "    # For example, if you want to read all CSV files in the folder:\n",
    "    file_names.append(os.listdir(folder_path))"
   ]
  },
  {
   "cell_type": "markdown",
   "id": "5d77eba7",
   "metadata": {
    "id": "5d77eba7"
   },
   "source": [
    "before applying code, check the consistency between file_name and ptid"
   ]
  },
  {
   "cell_type": "code",
   "execution_count": 6,
   "id": "0a54744d",
   "metadata": {
    "id": "0a54744d"
   },
   "outputs": [],
   "source": [
    "# need to do some special preprocessing for some data's id\n",
    "# train, validation, test, folder_paths, file_names's(list of files from each folder_path) sequence are the same\n",
    "def creating_folder(new_folder_name, datas, sample_number=50, replace=False):\n",
    "\n",
    "    counting = 0\n",
    "    new_folder = os.makedirs(new_folder_name, exist_ok=True)\n",
    "    # for all the train_datas\n",
    "    for i, data in enumerate(datas):\n",
    "        # for each train_data\n",
    "        for id in data[\"PtID\"]:\n",
    "            # get the matching subjects\n",
    "            matching_files = [f for f in file_names[i] if f.split(\"_\")[0] == str(id)]\n",
    "\n",
    "            # print(f\"Files for ID {id}: {matching_files}\")\n",
    "\n",
    "            all_segments = []\n",
    "            # every segment of every subjects\n",
    "            for matching_file in matching_files:\n",
    "                file_path = os.path.join(folder_paths[i], matching_file)\n",
    "                cont_data = np.load(file_path)\n",
    "                all_segments.append(cont_data)\n",
    "\n",
    "            # concat data from the same subject together\n",
    "            concatenated_data = np.concatenate(all_segments, axis=0)\n",
    "\n",
    "            # arr is your numpy array, shape (N, ...)\n",
    "            num_rows = concatenated_data.shape[0]\n",
    "            # for those with too many data, select a subset of 50\n",
    "            if num_rows >= sample_number:\n",
    "                random_indices = np.random.choice(\n",
    "                    num_rows, size=sample_number, replace=replace\n",
    "                )\n",
    "                concatenated_data = concatenated_data[random_indices]\n",
    "\n",
    "                # chunk each segment into multiple one day data, and each one day data is saved as a training sample\n",
    "                for j in range(len(concatenated_data)):\n",
    "\n",
    "                    # Save the loaded data to the train folder\n",
    "                    trial_id = train_files[i][0]\n",
    "                    new_file_path = os.path.join(\n",
    "                        new_folder_name, f\"{trial_id}_{counting}.npy\"\n",
    "                    )\n",
    "                    np.save(new_file_path, concatenated_data[j].flatten())\n",
    "                    counting += 1"
   ]
  },
  {
   "cell_type": "code",
   "execution_count": 7,
   "id": "cf5a51e5",
   "metadata": {
    "id": "cf5a51e5"
   },
   "outputs": [],
   "source": [
    "creating_folder(\"train\", train_datas, 5, False)"
   ]
  },
  {
   "cell_type": "code",
   "execution_count": 8,
   "id": "1f13ec85",
   "metadata": {
    "id": "1f13ec85"
   },
   "outputs": [],
   "source": [
    "creating_folder(\"validation\", validation_datas, 5, False)"
   ]
  },
  {
   "cell_type": "code",
   "execution_count": 9,
   "id": "2cde82f9",
   "metadata": {
    "id": "2cde82f9"
   },
   "outputs": [],
   "source": [
    "synthetic = [0]"
   ]
  },
  {
   "cell_type": "code",
   "execution_count": 10,
   "id": "11591a88",
   "metadata": {
    "id": "11591a88"
   },
   "outputs": [],
   "source": [
    "label_columns = [\"label\"]"
   ]
  },
  {
   "cell_type": "code",
   "execution_count": 11,
   "id": "360abccd",
   "metadata": {
    "id": "360abccd"
   },
   "outputs": [],
   "source": [
    "def calculate_tir(cgm_array, lower=70, upper=180):\n",
    "    \"\"\"\n",
    "    cgm_array: numpy array of shape (7, 1440, 1)\n",
    "    lower, upper: glucose range for TIR (mg/dL)\n",
    "    Returns: TIR for each day as a list of percentages\n",
    "    \"\"\"\n",
    "\n",
    "    flatten_cgm = cgm_array.flatten()  # (7,1440,1)->(7*1440,)\n",
    "    in_range = np.logical_and(flatten_cgm >= lower, flatten_cgm <= upper)\n",
    "    tir = np.sum(in_range) / len(flatten_cgm) * 100\n",
    "    return tir"
   ]
  },
  {
   "cell_type": "code",
   "execution_count": 12,
   "id": "2fe9ea6f",
   "metadata": {
    "id": "2fe9ea6f"
   },
   "outputs": [],
   "source": [
    "def tir_group(tir):\n",
    "    if tir > 90:\n",
    "        return 0\n",
    "    elif tir > 70:\n",
    "        return 1\n",
    "    elif tir > 50:\n",
    "        return 2\n",
    "    else:\n",
    "        return 3"
   ]
  },
  {
   "cell_type": "code",
   "execution_count": 13,
   "id": "21f0a49e",
   "metadata": {
    "id": "21f0a49e",
    "outputId": "fbe4d834-340d-4705-f6c5-dc075e06c32e"
   },
   "outputs": [],
   "source": [
    "test_folder = os.makedirs(\"test\", exist_ok=True)\n",
    "# for all the train_datas\n",
    "for i, test_data in enumerate(test_datas):\n",
    "    # for each train_data\n",
    "    for test_id, test_label in zip(test_data[\"PtID\"], test_data[label_columns[i]]):\n",
    "        # get the matching subjects\n",
    "        matching_files = [f for f in file_names[i] if f.split(\"_\")[0] == str(test_id)]\n",
    "\n",
    "        # print(f\"Files for ID {test_id}: {matching_files}\")\n",
    "\n",
    "        # remove hba1c label\n",
    "        test_label //= 10\n",
    "        # replace last digit with 0\n",
    "        test_label *= 10\n",
    "\n",
    "        # for counting test segment belongs to a subject\n",
    "        test_counting = 0\n",
    "        for matching_file in matching_files:\n",
    "            file_path = os.path.join(folder_paths[i], matching_file)\n",
    "            cont_data = np.load(file_path)\n",
    "\n",
    "            for j in range(0, len(cont_data) - 7 + 1, 3):\n",
    "                seven_days_data = cont_data[j : j + 7]\n",
    "                seven_days_data_squeeze = seven_days_data.squeeze()\n",
    "\n",
    "                # trial name use the first character of the file name\n",
    "                trial_id = test_files[i][0]\n",
    "                synthetic_id = synthetic[i]\n",
    "                pt_id = test_id\n",
    "                segment_id = test_counting\n",
    "\n",
    "                test_counting += 1\n",
    "                # calculate tir\n",
    "                tir = calculate_tir(seven_days_data_squeeze)\n",
    "                tir_index = tir_group(tir)\n",
    "                segment_test_label = test_label + tir_index\n",
    "\n",
    "                new_file_path = os.path.join(\n",
    "                    \"test\",\n",
    "                    f\"{trial_id}_{synthetic_id}_{pt_id}_{segment_id}_{segment_test_label}.npy\",\n",
    "                )\n",
    "                np.save(new_file_path, seven_days_data_squeeze)"
   ]
  }
 ],
 "metadata": {
  "colab": {
   "provenance": []
  },
  "kernelspec": {
   "display_name": "dl",
   "language": "python",
   "name": "python3"
  },
  "language_info": {
   "codemirror_mode": {
    "name": "ipython",
    "version": 3
   },
   "file_extension": ".py",
   "mimetype": "text/x-python",
   "name": "python",
   "nbconvert_exporter": "python",
   "pygments_lexer": "ipython3",
   "version": "3.9.21"
  }
 },
 "nbformat": 4,
 "nbformat_minor": 5
}
