{
 "cells": [
  {
   "cell_type": "code",
   "execution_count": 7,
   "id": "da9ea73b",
   "metadata": {},
   "outputs": [],
   "source": [
    "from sklearn.model_selection import train_test_split\n",
    "import pandas as pd"
   ]
  },
  {
   "cell_type": "code",
   "execution_count": 24,
   "id": "612e7363",
   "metadata": {},
   "outputs": [],
   "source": [
    "df = pd.read_csv(\"Aleppo2017_demographic_imputed_labeled.csv\")"
   ]
  },
  {
   "cell_type": "code",
   "execution_count": 25,
   "id": "54028637",
   "metadata": {},
   "outputs": [],
   "source": [
    "# Count the occurrences of each class\n",
    "class_counts = df[\"label\"].value_counts()\n",
    "\n",
    "# Filter out classes with fewer than 2 samples\n",
    "valid_classes = class_counts[class_counts >= 2].index\n",
    "df_filtered = df[df[\"label\"].isin(valid_classes)]"
   ]
  },
  {
   "cell_type": "code",
   "execution_count": 26,
   "id": "1f4f7062",
   "metadata": {},
   "outputs": [],
   "source": [
    "train_val, test = train_test_split(\n",
    "    df_filtered, test_size=0.6, random_state=42, stratify=df_filtered[\"label\"]\n",
    ")"
   ]
  },
  {
   "cell_type": "code",
   "execution_count": 27,
   "id": "897b346b",
   "metadata": {},
   "outputs": [],
   "source": [
    "# Count the occurrences of each class\n",
    "class_counts = train_val[\"label\"].value_counts()\n",
    "\n",
    "# Filter out classes with fewer than 2 samples\n",
    "valid_classes = class_counts[class_counts >= 2].index\n",
    "train_val_filtered = train_val[train_val[\"label\"].isin(valid_classes)]"
   ]
  },
  {
   "cell_type": "code",
   "execution_count": 28,
   "id": "04accb6f",
   "metadata": {},
   "outputs": [],
   "source": [
    "train, validation = train_test_split(\n",
    "    train_val_filtered,\n",
    "    test_size=0.5,\n",
    "    random_state=42,\n",
    "    stratify=train_val_filtered[\"label\"],\n",
    ")"
   ]
  },
  {
   "cell_type": "code",
   "execution_count": null,
   "id": "0e8543a7",
   "metadata": {},
   "outputs": [],
   "source": [
    "#don't forget to change the fiile names\n",
    "train.to_csv(\"aleppo_train.csv\", index=False)\n",
    "validation.to_csv(\"aleppo_validation.csv\", index=False)\n",
    "test.to_csv(\"aleppo_test.csv\", index=False)"
   ]
  }
 ],
 "metadata": {
  "kernelspec": {
   "display_name": "dl",
   "language": "python",
   "name": "python3"
  },
  "language_info": {
   "codemirror_mode": {
    "name": "ipython",
    "version": 3
   },
   "file_extension": ".py",
   "mimetype": "text/x-python",
   "name": "python",
   "nbconvert_exporter": "python",
   "pygments_lexer": "ipython3",
   "version": "3.12.0"
  }
 },
 "nbformat": 4,
 "nbformat_minor": 5
}
